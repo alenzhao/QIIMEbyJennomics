{
 "metadata": {
  "name": "",
  "signature": "sha256:56171483c34453d35553de33f37a78b50ee688efd0b5f3f0762e66238f64ec00"
 },
 "nbformat": 3,
 "nbformat_minor": 0,
 "worksheets": [
  {
   "cells": [
    {
     "cell_type": "heading",
     "level": 2,
     "metadata": {},
     "source": [
      "This notebook is for the analysis of 16S PCR libraries. (This is where I like to briefly describe the project.)</p></p>\n",
      "\n",
      "Before launching this ipython notebook, I typed the macqiime command to configure the shell. I'm using macqiime 1.8.0\n",
      "http://www.wernerlab.org/software/macqiime/macqiime-installation \n",
      "\n"
     ]
    },
    {
     "cell_type": "markdown",
     "metadata": {},
     "source": [
      "This workflow depends on the presence of 4 files. These are all in a GitHub page now: http://jennomics.github.io/QIIMEbyJennomics/ </p></p>1) demultiplexed sequences</p>2) a mapping file</p>3) a perlscript (code is below)</p>4) a parameter file (parameters.txt) with the following 2 lines:</p>pick_otus:enable_rev_strand_match       True</p>\n",
      "make_emperor:ignore_missing_samples\tTrue</p>To run a different project through this workflow:</p></p>1) do a search and replace for jennomics (in the .ipynb file, not in the browser window).</p>2) don't forget to change the -e value for the core diversity analyses! I set -e super high in this notebook so that if you don't change it, none of your samples will be analyzed."
     ]
    },
    {
     "cell_type": "markdown",
     "metadata": {},
     "source": [
      "I copied the stuff below from a QIIME/iPython notebook tutorial: http://nbviewer.ipython.org/github/qiime/qiime/blob/1.8.0/examples/ipynb/illumina_overview_tutorial.ipynb</p></p>I'm not sure what all of it does...\n"
     ]
    },
    {
     "cell_type": "code",
     "collapsed": false,
     "input": [
      "from os import chdir, mkdir\n",
      "from os.path import join\n",
      "#the following are only available in the current development branch of IPython\n",
      "from IPython.display import FileLinks, FileLink"
     ],
     "language": "python",
     "metadata": {},
     "outputs": [],
     "prompt_number": 1
    },
    {
     "cell_type": "heading",
     "level": 4,
     "metadata": {},
     "source": [
      "The version of macqiime that I'm using does not install the greengenes 99% cutoff OTUs and taxonomy, so did that manually as per the instructions on the MacQIIME Installation site. I just substituted the gg_13_8_otus folder that has all of the otu cutoffs for the one included in macqiime/greengenes/ \n"
     ]
    },
    {
     "cell_type": "code",
     "collapsed": false,
     "input": [
      "mapping_file = \"jennomics.txt\"\n",
      "otu_base = \"/macqiime/greengenes/gg_13_8_otus/\"\n",
      "reference_seqs_99 = join(otu_base,\"/macqiime/greengenes/gg_13_8_otus/rep_set/99_otus.fasta\")\n",
      "reference_tree_99 = join(otu_base,\"/macqiime/greengenes/gg_13_8_otus/trees/99_otus.tree\")\n",
      "reference_tax_99 = join(otu_base,\"/macqiime/greengenes/gg_13_8_otus/taxonomy/99_otu_taxonomy.txt\")\n",
      "reference_seqs_97 = join(otu_base,\"/macqiime/greengenes/gg_13_8_otus/rep_set/97_otus.fasta\")\n",
      "reference_tree_97 = join(otu_base,\"/macqiime/greengenes/gg_13_8_otus/trees/97_otus.tree\")\n",
      "reference_tax_97 = join(otu_base,\"/macqiime/greengenes/gg_13_8_otus/taxonomy/97_otu_taxonomy.txt\")"
     ],
     "language": "python",
     "metadata": {},
     "outputs": [],
     "prompt_number": 2
    },
    {
     "cell_type": "heading",
     "level": 3,
     "metadata": {},
     "source": [
      "make some directories to hold the output"
     ]
    },
    {
     "cell_type": "code",
     "collapsed": false,
     "input": [
      "!mkdir sequence_data\n",
      "!mkdir OTU_picking\n",
      "!mkdir core_diversity\n",
      "!mkdir biom_tables\n",
      "!mkdir biom_summaries\n",
      "!mkdir misc_files"
     ],
     "language": "python",
     "metadata": {},
     "outputs": [],
     "prompt_number": 3
    },
    {
     "cell_type": "heading",
     "level": 3,
     "metadata": {},
     "source": [
      "Make sure mapping file is good to go. This also provides a quick check for macqiime."
     ]
    },
    {
     "cell_type": "code",
     "collapsed": false,
     "input": [
      "!validate_mapping_file.py -m $mapping_file\n",
      "!mv jennomics_corrected.txt jennomics.txt"
     ],
     "language": "python",
     "metadata": {},
     "outputs": [
      {
       "output_type": "stream",
       "stream": "stdout",
       "text": [
        "Errors and/or warnings detected in mapping file.  Please check the log and html file for details.\r\n"
       ]
      }
     ],
     "prompt_number": 4
    },
    {
     "cell_type": "heading",
     "level": 4,
     "metadata": {},
     "source": [
      "I have this line in my parameter file that makes the following step unecessary, but I do this anyway because our demultiplexing script returns\n",
      "all of the merged sequences in the RC orientation. Flipping them around before doing the OTU-picking makes it run MUCH faster. </p></p>pick_otus:enable_rev_strand_match       True"
     ]
    },
    {
     "cell_type": "code",
     "collapsed": false,
     "input": [
      "!adjust_seq_orientation.py -i jennomics.fasta -o sequence_data/jennomics.faa"
     ],
     "language": "python",
     "metadata": {},
     "outputs": [],
     "prompt_number": 5
    },
    {
     "cell_type": "heading",
     "level": 1,
     "metadata": {},
     "source": [
      "Pick OTUs"
     ]
    },
    {
     "cell_type": "heading",
     "level": 4,
     "metadata": {},
     "source": [
      "Because I'm not sure what I will need downstream, I just pick both open- and closed-reference OTUs, clustered at both 97% and 99% similarity. </p></p>The pick_open_reference_otus.py script will cluster all of the sequences, assign taxonomy to the OTUs (when possible, a greengenes ID will be assigned,) choose a representative sequence from each OTU (rep_set), and align and build a phylogenetic tree from the representative sequences. OTUs that do not align to PyNast and singleton OTUs are not included in this biom file (otu_table_mc2_w_tax_no_pynast_failures.biom.)"
     ]
    },
    {
     "cell_type": "code",
     "collapsed": false,
     "input": [
      "!pick_open_reference_otus.py \\\n",
      "-p parameters.txt \\\n",
      "-r $reference_seqs_97 \\\n",
      "-i sequence_data/jennomics.faa \\\n",
      "-o OTU_picking/jennomics_97_open_reference_otus \\\n",
      "-a -O 4 -f\n",
      "\n",
      "!cp OTU_picking/jennomics_97_open_reference_otus/otu_table_mc2_w_tax_no_pynast_failures.biom biom_tables/97_open.biom"
     ],
     "language": "python",
     "metadata": {},
     "outputs": [],
     "prompt_number": 6
    },
    {
     "cell_type": "code",
     "collapsed": false,
     "input": [
      "!pick_open_reference_otus.py \\\n",
      "-p parameters.txt \\\n",
      "-r $reference_seqs_99 \\\n",
      "-i sequence_data/jennomics.faa \\\n",
      "-o OTU_picking/jennomics_99_open_reference_otus \\\n",
      "-a -O 4 -f\n",
      "\n",
      "!cp OTU_picking/jennomics_97_open_reference_otus/otu_table_mc2_w_tax_no_pynast_failures.biom biom_tables/99_open.biom"
     ],
     "language": "python",
     "metadata": {},
     "outputs": [],
     "prompt_number": 7
    },
    {
     "cell_type": "heading",
     "level": 4,
     "metadata": {},
     "source": [
      "The pick_closed_reference_otus.py script will cluster sequences against a reference (greengenes, here) database. Anything that does not hit a sequence in the database will be excluded from the resultant biom file. No tree is generated here, downstream analyses that depend on one must use a reference (greengenes, here) phylogeny."
     ]
    },
    {
     "cell_type": "code",
     "collapsed": false,
     "input": [
      "!pick_closed_reference_otus.py \\\n",
      "-p parameters.txt \\\n",
      "-r $reference_seqs_97 \\\n",
      "-t $reference_tax_97 \\\n",
      "-i sequence_data/jennomics.faa \\\n",
      "-o OTU_picking/jennomics_97_closed_reference_otus \\\n",
      "-a -O 2 -f\n",
      "\n",
      "!cp OTU_picking/jennomics_97_closed_reference_otus/otu_table.biom biom_tables/97_closed.biom"
     ],
     "language": "python",
     "metadata": {},
     "outputs": [],
     "prompt_number": 11
    },
    {
     "cell_type": "code",
     "collapsed": false,
     "input": [
      "!pick_closed_reference_otus.py \\\n",
      "-p parameters.txt \\\n",
      "-r $reference_seqs_99 \\\n",
      "-t $reference_tax_99 \\\n",
      "-i sequence_data/jennomics.faa \\\n",
      "-o OTU_picking/jennomics_99_closed_reference_otus \\\n",
      "-a -O 2 -f \n",
      "\n",
      "!cp OTU_picking/jennomics_99_closed_reference_otus/otu_table.biom biom_tables/99_closed.biom"
     ],
     "language": "python",
     "metadata": {},
     "outputs": [],
     "prompt_number": 12
    },
    {
     "cell_type": "heading",
     "level": 3,
     "metadata": {},
     "source": [
      "Remove chloroplast, mitochondria, and Unassigned at the domain level (in my experience, these are usually chloroplast, but one can check with a blast search.)"
     ]
    },
    {
     "cell_type": "code",
     "collapsed": false,
     "input": [
      "!filter_taxa_from_otu_table.py \\\n",
      "-i biom_tables/97_open.biom \\\n",
      "-o biom_tables/97_open_filtered.biom \\\n",
      "-n c__Chloroplast,f__mitochondria,Unassigned"
     ],
     "language": "python",
     "metadata": {},
     "outputs": [],
     "prompt_number": 13
    },
    {
     "cell_type": "code",
     "collapsed": false,
     "input": [
      "!filter_taxa_from_otu_table.py \\\n",
      "-i biom_tables/99_open.biom \\\n",
      "-o biom_tables/99_open_filtered.biom \\\n",
      "-n c__Chloroplast,f__mitochondria,Unassigned"
     ],
     "language": "python",
     "metadata": {},
     "outputs": [],
     "prompt_number": 14
    },
    {
     "cell_type": "code",
     "collapsed": false,
     "input": [
      "!filter_taxa_from_otu_table.py \\\n",
      "-i biom_tables/97_closed.biom \\\n",
      "-o biom_tables/97_closed_filtered.biom \\\n",
      "-n c__Chloroplast,f__mitochondria,Unassigned"
     ],
     "language": "python",
     "metadata": {},
     "outputs": [],
     "prompt_number": 15
    },
    {
     "cell_type": "code",
     "collapsed": false,
     "input": [
      "!filter_taxa_from_otu_table.py \\\n",
      "-i biom_tables/99_closed.biom \\\n",
      "-o biom_tables/99_closed_filtered.biom \\\n",
      "-n c__Chloroplast,f__mitochondria,Unassigned"
     ],
     "language": "python",
     "metadata": {},
     "outputs": [],
     "prompt_number": 16
    },
    {
     "cell_type": "heading",
     "level": 3,
     "metadata": {},
     "source": [
      "For open-reference-picked OTUs: Identify and remove chimeric sequences. Not a concern with closed-reference OTU-picking, because sequences have to match something in the reference database."
     ]
    },
    {
     "cell_type": "heading",
     "level": 4,
     "metadata": {},
     "source": [
      "Identify chimeras"
     ]
    },
    {
     "cell_type": "code",
     "collapsed": false,
     "input": [
      "!identify_chimeric_seqs.py \\\n",
      "-m ChimeraSlayer \\\n",
      "-i OTU_picking/jennomics_97_open_reference_otus/pynast_aligned_seqs/rep_set_aligned_pfiltered.fasta \\\n",
      "-a $reference_seqs_97 -o 97_open_chimeras.txt"
     ],
     "language": "python",
     "metadata": {},
     "outputs": [],
     "prompt_number": 18
    },
    {
     "cell_type": "code",
     "collapsed": false,
     "input": [
      "!identify_chimeric_seqs.py \\\n",
      "-m ChimeraSlayer \\\n",
      "-i OTU_picking/jennomics_99_open_reference_otus/pynast_aligned_seqs/rep_set_aligned_pfiltered.fasta \\\n",
      "-a $reference_seqs_99 -o 99_open_chimeras.txt"
     ],
     "language": "python",
     "metadata": {},
     "outputs": [],
     "prompt_number": 20
    },
    {
     "cell_type": "heading",
     "level": 4,
     "metadata": {},
     "source": [
      "Remove chimeras from OTU table"
     ]
    },
    {
     "cell_type": "code",
     "collapsed": false,
     "input": [
      "!filter_otus_from_otu_table.py \\\n",
      "-i biom_tables/97_open_filtered.biom \\\n",
      "-o biom_tables/97_open_filtered_no_chimeras.biom \\\n",
      "-e 97_open_chimeras.txt"
     ],
     "language": "python",
     "metadata": {},
     "outputs": [],
     "prompt_number": 21
    },
    {
     "cell_type": "code",
     "collapsed": false,
     "input": [
      "!filter_otus_from_otu_table.py \\\n",
      "-i biom_tables/99_open_filtered.biom \\\n",
      "-o biom_tables/99_open_filtered_no_chimeras.biom \\\n",
      "-e 99_open_chimeras.txt"
     ],
     "language": "python",
     "metadata": {},
     "outputs": [],
     "prompt_number": 22
    },
    {
     "cell_type": "heading",
     "level": 3,
     "metadata": {},
     "source": [
      "Sanity check for the otu tables. Make a note of the values to be used for rarefaction."
     ]
    },
    {
     "cell_type": "code",
     "collapsed": false,
     "input": [
      "!biom summarize-table \\\n",
      "-i biom_tables/97_open_filtered_no_chimeras.biom \\\n",
      "-o biom_summaries/97_open_filtered_no_chimeras.summary\n",
      "\n",
      "!cat biom_summaries/97_open_filtered_no_chimeras.summary #rarefy to: "
     ],
     "language": "python",
     "metadata": {},
     "outputs": [],
     "prompt_number": 28
    },
    {
     "cell_type": "code",
     "collapsed": false,
     "input": [
      "!biom summarize-table \\\n",
      "-i biom_tables/99_open_filtered_no_chimeras.biom \\\n",
      "-o biom_summaries/99_open_filtered_no_chimeras.summary\n",
      "\n",
      "!cat biom_summaries/99_open_filtered_no_chimeras.summary #rarefy to: "
     ],
     "language": "python",
     "metadata": {},
     "outputs": [],
     "prompt_number": 29
    },
    {
     "cell_type": "code",
     "collapsed": false,
     "input": [
      "!biom summarize-table \\\n",
      "-i biom_tables/97_closed_filtered.biom \\\n",
      "-o biom_summaries/97_closed_filtered.summary\n",
      "\n",
      "!cat biom_summaries/97_closed_filtered.summary #rarefy to: "
     ],
     "language": "python",
     "metadata": {},
     "outputs": [],
     "prompt_number": 30
    },
    {
     "cell_type": "code",
     "collapsed": false,
     "input": [
      "!biom summarize-table \\\n",
      "-i biom_tables/99_closed_filtered.biom \\\n",
      "-o biom_summaries/99_closed_filtered.summary\n",
      "\n",
      "!cat biom_summaries/99_closed_filtered.summary #rarefy to: "
     ],
     "language": "python",
     "metadata": {},
     "outputs": [],
     "prompt_number": 31
    },
    {
     "cell_type": "heading",
     "level": 3,
     "metadata": {},
     "source": [
      "During closed-reference OTU-picking, neither an alignment nor a tree of the representative sequences is produced. \n",
      "This is because QIIME will just use the full greengenes phylogeny if it needs one. But, if I want to use something else like phyloseq, then I want to have a phylogeny of the OTUs in my samples, and not the full greengenes tree, and I think this is the easiest way to get one. I'm making a new tree for the open-reference OTUs as well, because I filtered out chimeras, chloroplasts, etc."
     ]
    },
    {
     "cell_type": "raw",
     "metadata": {},
     "source": [
      "Just as an aside, if you import the full greengees tree into R and merge it into a phyloseq object, phyloseq will prune the tree so that you have what I'm about to produce here. However, I've had a really hard time getting any of the R phylogeny packages or software like FigTree to read that pruned tree properly."
     ]
    },
    {
     "cell_type": "heading",
     "level": 4,
     "metadata": {},
     "source": [
      "First, convert the biom tables into classic format so that I can easily get the OTU IDs"
     ]
    },
    {
     "cell_type": "code",
     "collapsed": false,
     "input": [
      "!biom convert -b \\\n",
      "-i biom_tables/97_closed_filtered.biom \\\n",
      "-o biom_tables/97_closed_filtered.txt"
     ],
     "language": "python",
     "metadata": {},
     "outputs": [],
     "prompt_number": 32
    },
    {
     "cell_type": "code",
     "collapsed": false,
     "input": [
      "!biom convert -b \\\n",
      "-i biom_tables/99_closed_filtered.biom \\\n",
      "-o biom_tables/99_closed_filtered.txt"
     ],
     "language": "python",
     "metadata": {},
     "outputs": [],
     "prompt_number": 33
    },
    {
     "cell_type": "code",
     "collapsed": false,
     "input": [
      "!biom convert -b \\\n",
      "-i biom_tables/97_open_filtered_no_chimeras.biom \\\n",
      "-o biom_tables/97_open_filtered_no_chimeras.txt"
     ],
     "language": "python",
     "metadata": {},
     "outputs": [],
     "prompt_number": 34
    },
    {
     "cell_type": "code",
     "collapsed": false,
     "input": [
      "!biom convert -b \\\n",
      "-i biom_tables/99_open_filtered_no_chimeras.biom \\\n",
      "-o biom_tables/99_open_filtered_no_chimeras.txt"
     ],
     "language": "python",
     "metadata": {},
     "outputs": [],
     "prompt_number": 35
    },
    {
     "cell_type": "heading",
     "level": 4,
     "metadata": {},
     "source": [
      "Use this stupid perl script to make a list of OTU IDs for each biom table."
     ]
    },
    {
     "cell_type": "raw",
     "metadata": {},
     "source": [
      "#!usr/bin/perl\n",
      "\n",
      "open (IN97o,\"biom_tables/97_open_filtered_no_chimeras.txt\");\n",
      "open (OUT97o, \">97_open.list\");\n",
      "\n",
      "@file = <IN97o>;\n",
      "\n",
      "foreach $line (@file){\n",
      "@linearray = split(/\\s+/, $line);\n",
      "if ($linearray[0] !~ /#/) {print OUT97o \"$linearray[0]\\n\"};\n",
      "}\n",
      "close IN97o;\n",
      "close OUT97o;\n",
      "########################################################################\n",
      "\n",
      "open (IN99o,\"biom_tables/99_open_filtered_no_chimeras.txt\");\n",
      "open (OUT99o, \">99_open.list\");\n",
      "\n",
      "@file = <IN99o>;\n",
      "\n",
      "foreach $line (@file){\n",
      "@linearray = split(/\\s+/, $line);\n",
      "if ($linearray[0] !~ /#/) {print OUT99o \"$linearray[0]\\n\"};\n",
      "}\n",
      "close IN99o;\n",
      "close OUT99o;\n",
      "########################################################################\n",
      "\n",
      "open (IN97c,\"biom_tables/97_closed_filtered.txt\");\n",
      "open (OUT97c, \">97_closed.list\");\n",
      "\n",
      "@file = <IN97c>;\n",
      "\n",
      "foreach $line (@file){\n",
      "@linearray = split(/\\s+/, $line);\n",
      "if ($linearray[0] !~ /#/) {print OUT97c \"$linearray[0]\\n\"};\n",
      "}\n",
      "close IN97c;\n",
      "close OUT97c;\n",
      "########################################################################\n",
      "\n",
      "open (IN99c,\"biom_tables/99_closed_filtered.txt\");\n",
      "open (OUT99c, \">99_closed.list\");\n",
      "\n",
      "@file = <IN99c>;\n",
      "\n",
      "foreach $line (@file){\n",
      "@linearray = split(/\\s+/, $line);\n",
      "if ($linearray[0] !~ /#/) {print OUT99c \"$linearray[0]\\n\"};\n",
      "}\n",
      "close IN99c;\n",
      "close OUT99c;"
     ]
    },
    {
     "cell_type": "heading",
     "level": 4,
     "metadata": {},
     "source": [
      "Extract an alignment of the taxa in my OTU table from the greengenes alignment for closed-reference, and from the repset alignment for open-reference.."
     ]
    },
    {
     "cell_type": "code",
     "collapsed": false,
     "input": [
      "!filter_fasta.py -f /macqiime/greengenes/gg_13_8_otus/rep_set_aligned/97_otus.fasta \\\n",
      "-o 97_closed_aligned.fasta -s 97_closed.list"
     ],
     "language": "python",
     "metadata": {},
     "outputs": [],
     "prompt_number": 36
    },
    {
     "cell_type": "code",
     "collapsed": false,
     "input": [
      "!filter_fasta.py -f /macqiime/greengenes/gg_13_8_otus/rep_set_aligned/99_otus.fasta \\\n",
      "-o 99_closed_aligned.fasta -s 99_closed.list"
     ],
     "language": "python",
     "metadata": {},
     "outputs": [],
     "prompt_number": 37
    },
    {
     "cell_type": "code",
     "collapsed": false,
     "input": [
      "!filter_fasta.py -f OTU_picking/jennomics_97_open_reference_otus/pynast_aligned_seqs/rep_set_aligned.fasta \\\n",
      "-o 97_open_aligned.fasta -s 97_open.list"
     ],
     "language": "python",
     "metadata": {},
     "outputs": [],
     "prompt_number": 48
    },
    {
     "cell_type": "code",
     "collapsed": false,
     "input": [
      "!filter_fasta.py -f OTU_picking/jennomics_99_open_reference_otus/pynast_aligned_seqs/rep_set_aligned.fasta \\\n",
      "-o 99_open_aligned.fasta -s 99_open.list"
     ],
     "language": "python",
     "metadata": {},
     "outputs": [],
     "prompt_number": 49
    },
    {
     "cell_type": "heading",
     "level": 4,
     "metadata": {},
     "source": [
      "Build a tree from that alignment"
     ]
    },
    {
     "cell_type": "code",
     "collapsed": false,
     "input": [
      "!make_phylogeny.py -i 97_open_aligned.fasta"
     ],
     "language": "python",
     "metadata": {},
     "outputs": [],
     "prompt_number": 50
    },
    {
     "cell_type": "code",
     "collapsed": false,
     "input": [
      "!make_phylogeny.py -i 99_open_aligned.fasta"
     ],
     "language": "python",
     "metadata": {},
     "outputs": [],
     "prompt_number": 51
    },
    {
     "cell_type": "code",
     "collapsed": false,
     "input": [
      "!make_phylogeny.py -i 97_closed_aligned.fasta"
     ],
     "language": "python",
     "metadata": {},
     "outputs": [],
     "prompt_number": 52
    },
    {
     "cell_type": "code",
     "collapsed": false,
     "input": [
      "!make_phylogeny.py -i 99_closed_aligned.fasta"
     ],
     "language": "python",
     "metadata": {},
     "outputs": [],
     "prompt_number": 53
    },
    {
     "cell_type": "heading",
     "level": 2,
     "metadata": {},
     "source": [
      "Now, for all 4 datasets (open97, open99, closed97, closed99) I have a biom table, an alignment, and a phylogenetic tree. Now, clean up the directory."
     ]
    },
    {
     "cell_type": "code",
     "collapsed": false,
     "input": [
      "!mkdir open97\n",
      "!cp biom_tables/97_open_filtered_no_chimeras.biom open97/jennomics_open97.biom\n",
      "!mv 97_open_aligned.fasta open97/jennomics_open97.fasta\n",
      "!mv 97_open_aligned.tre open97/jennomics_open97.tre"
     ],
     "language": "python",
     "metadata": {},
     "outputs": [],
     "prompt_number": 54
    },
    {
     "cell_type": "code",
     "collapsed": false,
     "input": [
      "!mkdir open99\n",
      "!cp biom_tables/99_open_filtered_no_chimeras.biom open99/jennomics_open99.biom\n",
      "!mv 99_open_aligned.fasta open99/jennomics_open99.fasta\n",
      "!mv 99_open_aligned.tre open99/jennomics_open99.tre"
     ],
     "language": "python",
     "metadata": {},
     "outputs": [],
     "prompt_number": 55
    },
    {
     "cell_type": "code",
     "collapsed": false,
     "input": [
      "!mkdir closed97\n",
      "!cp biom_tables/97_closed_filtered.biom closed97/jennomics_closed97.biom\n",
      "!mv 97_closed_aligned.fasta closed97/jennomics_closed97.fasta\n",
      "!mv 97_closed_aligned.tre closed97/jennomics_closed97.tre"
     ],
     "language": "python",
     "metadata": {},
     "outputs": [],
     "prompt_number": 56
    },
    {
     "cell_type": "code",
     "collapsed": false,
     "input": [
      "!mkdir closed99\n",
      "!cp biom_tables/99_closed_filtered.biom closed99/jennomics_closed99.biom\n",
      "!mv 99_closed_aligned.fasta closed99/jennomics_closed99.fasta\n",
      "!mv 99_closed_aligned.tre closed99/jennomics_closed99.tre"
     ],
     "language": "python",
     "metadata": {},
     "outputs": [],
     "prompt_number": 57
    },
    {
     "cell_type": "code",
     "collapsed": false,
     "input": [
      "!mv jennomics.html misc_files\n",
      "!mv jennomics.log misc_files\n",
      "!mv overlib.js misc_files\n",
      "!mv 97_closed.list misc_files\n",
      "!mv 99_closed.list misc_files\n",
      "!mv 97_open.list misc_files\n",
      "!mv 99_open.list misc_files\n",
      "!rm jennomics.fasta"
     ],
     "language": "python",
     "metadata": {},
     "outputs": [],
     "prompt_number": 59
    },
    {
     "cell_type": "heading",
     "level": 1,
     "metadata": {},
     "source": [
      "Core diversity analyses"
     ]
    },
    {
     "cell_type": "code",
     "collapsed": false,
     "input": [
      "###Don't forget to change the -e value\n",
      "!core_diversity_analyses.py \\\n",
      "-p parameters.txt \\\n",
      "-i open97/jennomics_open97.biom \\\n",
      "-o core_diversity/jennomics_open97 \\\n",
      "-m jennomics.txt \\\n",
      "-e 100000000 \\\n",
      "-t open97/jennomics_open97.tre"
     ],
     "language": "python",
     "metadata": {},
     "outputs": [],
     "prompt_number": 64
    },
    {
     "cell_type": "code",
     "collapsed": false,
     "input": [
      "###Don't forget to change the -e value\n",
      "!core_diversity_analyses.py \\\n",
      "-p parameters.txt \\\n",
      "-i open99/jennomics_open99.biom \\\n",
      "-o core_diversity/jennomics_open99 \\\n",
      "-m jennomics.txt \\\n",
      "-e 100000000 \\\n",
      "-t open99/jennomics_open99.tre"
     ],
     "language": "python",
     "metadata": {},
     "outputs": [],
     "prompt_number": 67
    },
    {
     "cell_type": "code",
     "collapsed": false,
     "input": [
      "###Don't forget to change the -e value\n",
      "!core_diversity_analyses.py \\\n",
      "-p parameters.txt \\\n",
      "-i closed97/jennomics_closed97.biom \\\n",
      "-o core_diversity/jennomics_closed97 \\\n",
      "-m jennomics.txt \\\n",
      "-e 100000000 \\\n",
      "-t closed97/jennomics_closed97.tre"
     ],
     "language": "python",
     "metadata": {},
     "outputs": [],
     "prompt_number": 77
    },
    {
     "cell_type": "code",
     "collapsed": false,
     "input": [
      "###Don't forget to change the -e value\n",
      "!core_diversity_analyses.py \\\n",
      "-p parameters.txt \\\n",
      "-i closed99/jennomics_closed99.biom \\\n",
      "-o core_diversity/jennomics_closed99 \\\n",
      "-m jennomics.txt \\\n",
      "-e 100000000 \\\n",
      "-t closed99/jennomics_closed99.tre"
     ],
     "language": "python",
     "metadata": {},
     "outputs": [],
     "prompt_number": 78
    },
    {
     "cell_type": "heading",
     "level": 1,
     "metadata": {},
     "source": [
      "Add metadata for phinch"
     ]
    },
    {
     "cell_type": "code",
     "collapsed": false,
     "input": [
      "!biom add-metadata \\\n",
      "-i open97/jennomics_open97.biom \\\n",
      "-m jennomics.txt \\\n",
      "-o biom_tables/jennomics_open97_wmd.biom"
     ],
     "language": "python",
     "metadata": {},
     "outputs": [],
     "prompt_number": 79
    },
    {
     "cell_type": "code",
     "collapsed": false,
     "input": [
      "!biom add-metadata \\\n",
      "-i open99/jennomics_open99.biom \n",
      "-m jennomics.txt \n",
      "-o biom_tables/jennomics_open99_wmd.biom"
     ],
     "language": "python",
     "metadata": {},
     "outputs": []
    },
    {
     "cell_type": "code",
     "collapsed": false,
     "input": [
      "!biom add-metadata \\\n",
      "-i closed97/jennomics_closed97.biom \\\n",
      "-m jennomics.txt \\\n",
      "-o biom_tables/jennomics_closed97_wmd.biom"
     ],
     "language": "python",
     "metadata": {},
     "outputs": []
    },
    {
     "cell_type": "code",
     "collapsed": false,
     "input": [
      "!biom add-metadata \\\n",
      "-i closed99/jennomics_closed99.biom \\\n",
      "-m jennomics.txt \\\n",
      "-o biom_tables/jennomics_closed99_wmd.biom"
     ],
     "language": "python",
     "metadata": {},
     "outputs": []
    }
   ],
   "metadata": {}
  }
 ]
}